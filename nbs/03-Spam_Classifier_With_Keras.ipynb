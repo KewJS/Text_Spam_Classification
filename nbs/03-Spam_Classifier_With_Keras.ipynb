{
 "cells": [
  {
   "cell_type": "code",
   "execution_count": null,
   "id": "7d8504c5",
   "metadata": {},
   "outputs": [],
   "source": [
    "import boto3\n",
    "import os\n",
    "import pathlib\n",
    "import pickle\n",
    "import pandas as pd\n",
    "\n",
    "from tensorflow.keras.layers import Dense, Input\n",
    "from tensorflow.keras.layers import Conv1D, MaxPooling1D, Embedding, LSTM, SpatialDropout1D\n",
    "from tensorflow.keras.models import Model, Sequential\n",
    "\n",
    "from tensorflow.keras.preprocessing.text import Tokenizer\n",
    "from tensorflow.keras.preprocessing.sequence import pad_sequences"
   ]
  },
  {
   "cell_type": "code",
   "execution_count": null,
   "id": "b14b3224",
   "metadata": {},
   "outputs": [],
   "source": [
    "BASE_DIR = pathlib.Path().resolve().parent\n",
    "DATASET_DIR = BASE_DIR / \"data_local\"\n",
    "EXPORT_DIR = DATASET_DIR/\"exports\"\n",
    "SPAM_DATASET_PATH = EXPORT_DIR/\"spam-dataset.csv\"\n",
    "GUIDES_DIR = pathlib.Path(\"/guides/spam-classifier/\")\n",
    "\n",
    "METADATA_EXPORT_PATH = EXPORT_DIR/\"spam-metadata.pkl\"\n",
    "TOKENIZER_EXPORT_PATH = EXPORT_DIR/\"spam-tokenizer.json\""
   ]
  },
  {
   "cell_type": "code",
   "execution_count": null,
   "id": "b61fd12d",
   "metadata": {},
   "outputs": [],
   "source": [
    "EXPORT_DIR = pathlib.Path('/datasets/exports/')\n",
    "GUIDES_DIR = pathlib.Path(\"/guides/spam-classifier/\")\n",
    "DATASET_CSV_PATH = EXPORT_DIR / 'spam-dataset.csv'\n",
    "TRAINING_DATA_PATH = EXPORT_DIR / 'spam-training-data.pkl'\n",
    "PART_TWO_GUIDE_PATH = GUIDES_DIR / \"02-Convert_Datasets_Into_Vectors.ipynb\""
   ]
  },
  {
   "cell_type": "code",
   "execution_count": null,
   "id": "e5195a12",
   "metadata": {},
   "outputs": [],
   "source": [
    "!mkdir -p \"$EXPORT_DIR\"\n",
    "!mkdir -p \"$GUIDES_DIR\"\n",
    "!curl \"https://raw.githubusercontent.com/codingforentrepreneurs/AI-as-an-API/main/datasets/exports/spam-dataset.csv\" -o \"$DATASET_CSV_PATH\"\n",
    "!curl \"https://raw.githubusercontent.com/codingforentrepreneurs/AI-as-an-API/main/guides/spam-classifier/2%20-%20Convert%20Dataset%20into%20Vectors.ipynb\" -o \"$PART_TWO_GUIDE_PATH\""
   ]
  }
 ],
 "metadata": {
  "kernelspec": {
   "display_name": "spam_classification",
   "language": "python",
   "name": "spam_classification"
  },
  "language_info": {
   "codemirror_mode": {
    "name": "ipython",
    "version": 3
   },
   "file_extension": ".py",
   "mimetype": "text/x-python",
   "name": "python",
   "nbconvert_exporter": "python",
   "pygments_lexer": "ipython3",
   "version": "3.9.9"
  }
 },
 "nbformat": 4,
 "nbformat_minor": 5
}

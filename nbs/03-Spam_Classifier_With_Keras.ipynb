{
 "cells": [
  {
   "cell_type": "markdown",
   "id": "ee124f9d",
   "metadata": {},
   "source": [
    "## Build a Spam Classifier with Keras\n",
    "With deep learning and AI, handling spam content has gotten easier and easier. Over time (and with the aid of direct user feedback) our spam classifier will rarely produce erroneous results.\n",
    "\n",
    "This is the first part of a multi-part series covering how to:\n",
    "\n",
    "- Build an AI Model (this one)\n",
    "- Integrate a NoSQL Database (inference result storing)\n",
    "- Deploy an AI Model into Production\n",
    "\n",
    "### Prerequisites\n",
    "- Prepare your dataset using this notebook .\n",
    "- Convert your dataset into trainable vectors in this notebook (Either way, this notebook will run this step for us).\n",
    "\n",
    "### Running this notebook:\n",
    "- Recommended: Use Colab as it offers free GPUs for training models. Launch this notebook here)"
   ]
  },
  {
   "cell_type": "code",
   "execution_count": 35,
   "id": "7d8504c5",
   "metadata": {},
   "outputs": [],
   "source": [
    "import boto3\n",
    "import os\n",
    "import json\n",
    "import pathlib\n",
    "import pickle\n",
    "import pandas as pd\n",
    "\n",
    "from tensorflow.keras.layers import Dense, Input\n",
    "from tensorflow.keras.layers import Conv1D, MaxPooling1D, Embedding, LSTM, SpatialDropout1D\n",
    "from tensorflow.keras.models import Model, Sequential\n",
    "\n",
    "from tensorflow.keras.preprocessing.text import Tokenizer\n",
    "from tensorflow.keras.preprocessing.sequence import pad_sequences"
   ]
  },
  {
   "cell_type": "code",
   "execution_count": 23,
   "id": "b14b3224",
   "metadata": {},
   "outputs": [],
   "source": [
    "USE_PROJECT_ROOT = True\n",
    "BASE_DIR = pathlib.Path().resolve()\n",
    "if USE_PROJECT_ROOT:\n",
    "    BASE_DIR = BASE_DIR.parent\n",
    "\n",
    "DATASET_DIR = BASE_DIR / \"datasets\"\n",
    "EXPORT_DIR = DATASET_DIR / \"exports\"\n",
    "DATASET_CSV_PATH = EXPORT_DIR / 'spam-dataset.csv'\n",
    "\n",
    "GUIDES_DIR = BASE_DIR / \"nbs\"\n",
    "TRAINING_DATA_PATH = EXPORT_DIR / 'spam-training-data.pkl'\n",
    "PART_TWO_GUIDE_PATH = GUIDES_DIR / \"02-Convert_Dataset_Into_Vectors.ipynb\""
   ]
  },
  {
   "cell_type": "markdown",
   "id": "d4c9561f",
   "metadata": {},
   "source": [
    "## Prepare Dataset\n",
    "Creating a dataset rarely happens next to where you run the training. The below cells are a method for us to extract the needed data to perform training against."
   ]
  },
  {
   "cell_type": "markdown",
   "id": "35e11d86",
   "metadata": {},
   "source": [
    "```shell\n",
    "!mkdir -p \"$EXPORT_DIR\"\n",
    "!mkdir -p \"$GUIDES_DIR\"\n",
    "!curl \"https://github.com/KewJS/spam_classification/blob/master/data_local/exports/spam-dataset.csv\" -o \"$DATASET_CSV_PATH\"\n",
    "!curl \"https://github.com/KewJS/spam_classification/blob/master/nbs/02-Convert_Dataset_Into_Vectors.ipynb\" -o \"$PART_TWO_GUIDE_PATH\"\n",
    "```"
   ]
  },
  {
   "cell_type": "code",
   "execution_count": 24,
   "id": "e0c04b25",
   "metadata": {},
   "outputs": [
    {
     "data": {
      "text/html": [
       "<div>\n",
       "<style scoped>\n",
       "    .dataframe tbody tr th:only-of-type {\n",
       "        vertical-align: middle;\n",
       "    }\n",
       "\n",
       "    .dataframe tbody tr th {\n",
       "        vertical-align: top;\n",
       "    }\n",
       "\n",
       "    .dataframe thead th {\n",
       "        text-align: right;\n",
       "    }\n",
       "</style>\n",
       "<table border=\"1\" class=\"dataframe\">\n",
       "  <thead>\n",
       "    <tr style=\"text-align: right;\">\n",
       "      <th></th>\n",
       "      <th>label</th>\n",
       "      <th>text</th>\n",
       "      <th>source</th>\n",
       "    </tr>\n",
       "  </thead>\n",
       "  <tbody>\n",
       "    <tr>\n",
       "      <th>0</th>\n",
       "      <td>ham</td>\n",
       "      <td>Go until jurong point, crazy.. Available only ...</td>\n",
       "      <td>sms-spam</td>\n",
       "    </tr>\n",
       "    <tr>\n",
       "      <th>1</th>\n",
       "      <td>ham</td>\n",
       "      <td>Ok lar... Joking wif u oni...</td>\n",
       "      <td>sms-spam</td>\n",
       "    </tr>\n",
       "    <tr>\n",
       "      <th>2</th>\n",
       "      <td>spam</td>\n",
       "      <td>Free entry in 2 a wkly comp to win FA Cup fina...</td>\n",
       "      <td>sms-spam</td>\n",
       "    </tr>\n",
       "    <tr>\n",
       "      <th>3</th>\n",
       "      <td>ham</td>\n",
       "      <td>U dun say so early hor... U c already then say...</td>\n",
       "      <td>sms-spam</td>\n",
       "    </tr>\n",
       "    <tr>\n",
       "      <th>4</th>\n",
       "      <td>ham</td>\n",
       "      <td>Nah I don't think he goes to usf, he lives aro...</td>\n",
       "      <td>sms-spam</td>\n",
       "    </tr>\n",
       "  </tbody>\n",
       "</table>\n",
       "</div>"
      ],
      "text/plain": [
       "  label                                               text    source\n",
       "0   ham  Go until jurong point, crazy.. Available only ...  sms-spam\n",
       "1   ham                      Ok lar... Joking wif u oni...  sms-spam\n",
       "2  spam  Free entry in 2 a wkly comp to win FA Cup fina...  sms-spam\n",
       "3   ham  U dun say so early hor... U c already then say...  sms-spam\n",
       "4   ham  Nah I don't think he goes to usf, he lives aro...  sms-spam"
      ]
     },
     "execution_count": 24,
     "metadata": {},
     "output_type": "execute_result"
    }
   ],
   "source": [
    "df = pd.read_csv(DATASET_CSV_PATH)\n",
    "df.head()"
   ]
  },
  {
   "cell_type": "code",
   "execution_count": 25,
   "id": "dea1b02c",
   "metadata": {},
   "outputs": [
    {
     "name": "stdout",
     "output_type": "stream",
     "text": [
      "BASE_DIR is F:\\KEW_JING_SHENG\\01-SELF_LEARNING\\02-Data_Science\\35-Spam_Classification\n",
      "Random Index 4854\n",
      "Found 9730 unique tokens.\n"
     ]
    }
   ],
   "source": [
    "%run \"$PART_TWO_GUIDE_PATH\""
   ]
  },
  {
   "cell_type": "code",
   "execution_count": 26,
   "id": "17cc6a0e",
   "metadata": {},
   "outputs": [],
   "source": [
    "data = {}\n",
    "\n",
    "with open(TRAINING_DATA_PATH, 'rb') as f:\n",
    "    data = pickle.load(f)"
   ]
  },
  {
   "cell_type": "markdown",
   "id": "0bcd9773",
   "metadata": {},
   "source": [
    "> While the above code uses <code>pickle</code> to load in data, this data is actually exported via <code>pickle</code> when we execute the <code>%run</code> only a few steps ago. Since <code>pickle</code> can be unsafe to use from third-party downloaded data, we actually generate (again using <code>%run</code>) this pickle data and therefore is safe to use -- it's never downloaded."
   ]
  },
  {
   "cell_type": "markdown",
   "id": "37b92862",
   "metadata": {},
   "source": [
    "## Transform Extracted Dataset"
   ]
  },
  {
   "cell_type": "code",
   "execution_count": 28,
   "id": "8dc030ae",
   "metadata": {},
   "outputs": [],
   "source": [
    "X_test = data['X_test']\n",
    "X_train = data['X_train']\n",
    "y_test = data['y_test']\n",
    "y_train = data['y_train']\n",
    "labels_legend_inverted = data['labels_legend_inverted']\n",
    "legend = data['legend']\n",
    "max_sequence = data['max_sequence']\n",
    "max_words = data['max_words']\n",
    "tokenizer = data['tokenizer']"
   ]
  },
  {
   "cell_type": "markdown",
   "id": "82e2d1e5",
   "metadata": {},
   "source": [
    "## Create our LSTM Model"
   ]
  },
  {
   "cell_type": "code",
   "execution_count": 29,
   "id": "28807a41",
   "metadata": {},
   "outputs": [
    {
     "name": "stdout",
     "output_type": "stream",
     "text": [
      "Model: \"sequential\"\n",
      "_________________________________________________________________\n",
      " Layer (type)                Output Shape              Param #   \n",
      "=================================================================\n",
      " embedding (Embedding)       (None, 300, 128)          35840     \n",
      "                                                                 \n",
      " spatial_dropout1d (SpatialD  (None, 300, 128)         0         \n",
      " ropout1D)                                                       \n",
      "                                                                 \n",
      " lstm (LSTM)                 (None, 196)               254800    \n",
      "                                                                 \n",
      " dense (Dense)               (None, 2)                 394       \n",
      "                                                                 \n",
      "=================================================================\n",
      "Total params: 291,034\n",
      "Trainable params: 291,034\n",
      "Non-trainable params: 0\n",
      "_________________________________________________________________\n",
      "None\n"
     ]
    }
   ],
   "source": [
    "embed_dim = 128\n",
    "lstm_out = 196\n",
    "\n",
    "model = Sequential()\n",
    "model.add(Embedding(MAX_NUM_WORDS, embed_dim, input_length=X_train.shape[1]))\n",
    "model.add(SpatialDropout1D(0.4))\n",
    "model.add(LSTM(lstm_out, dropout=0.3, recurrent_dropout=0.3))\n",
    "model.add(Dense(2, activation='softmax'))\n",
    "model.compile(loss='categorical_crossentropy', optimizer=\"adam\", metrics=['accuracy'])\n",
    "print(model.summary())"
   ]
  },
  {
   "cell_type": "code",
   "execution_count": 30,
   "id": "b432ca38",
   "metadata": {},
   "outputs": [
    {
     "name": "stdout",
     "output_type": "stream",
     "text": [
      "Epoch 1/5\n",
      "154/154 [==============================] - 137s 862ms/step - loss: 0.2924 - accuracy: 0.8815 - val_loss: 0.1410 - val_accuracy: 0.9433\n",
      "Epoch 2/5\n",
      "154/154 [==============================] - 123s 796ms/step - loss: 0.1095 - accuracy: 0.9615 - val_loss: 0.1004 - val_accuracy: 0.9677\n",
      "Epoch 3/5\n",
      "154/154 [==============================] - 120s 782ms/step - loss: 0.0969 - accuracy: 0.9660 - val_loss: 0.1070 - val_accuracy: 0.9661\n",
      "Epoch 4/5\n",
      "154/154 [==============================] - 121s 787ms/step - loss: 0.0809 - accuracy: 0.9715 - val_loss: 0.0970 - val_accuracy: 0.9719\n",
      "Epoch 5/5\n",
      "154/154 [==============================] - 122s 795ms/step - loss: 0.0734 - accuracy: 0.9735 - val_loss: 0.0959 - val_accuracy: 0.9723\n"
     ]
    },
    {
     "data": {
      "text/plain": [
       "<keras.callbacks.History at 0x22a42e42bb0>"
      ]
     },
     "execution_count": 30,
     "metadata": {},
     "output_type": "execute_result"
    }
   ],
   "source": [
    "batch_size = 32\n",
    "epochs = 5\n",
    "model.fit(X_train, y_train, validation_data=(X_test, y_test), batch_size=batch_size, verbose=1, epochs=epochs)"
   ]
  },
  {
   "cell_type": "code",
   "execution_count": 31,
   "id": "de4aa00a",
   "metadata": {},
   "outputs": [],
   "source": [
    "MODEL_EXPORT_PATH = EXPORT_DIR / 'spam-model.h5'\n",
    "model.save(str(MODEL_EXPORT_PATH))"
   ]
  },
  {
   "cell_type": "markdown",
   "id": "e8c247c6",
   "metadata": {},
   "source": [
    "## Predict New Data"
   ]
  },
  {
   "cell_type": "code",
   "execution_count": 32,
   "id": "66bca581",
   "metadata": {},
   "outputs": [],
   "source": [
    "import numpy as np\n",
    "\n",
    "def predict(text_str, max_words=280, max_sequence = 280, tokenizer=None):\n",
    "  if not tokenizer:\n",
    "    return None\n",
    "  sequences = tokenizer.texts_to_sequences([text_str])\n",
    "  x_input = pad_sequences(sequences, maxlen=max_sequence)\n",
    "  y_output = model.predict(x_input)\n",
    "  top_y_index = np.argmax(y_output)\n",
    "  preds = y_output[top_y_index]\n",
    "  labeled_preds = [{f\"{labels_legend_inverted[str(i)]}\": x} for i, x in enumerate(preds)]\n",
    "  return labeled_preds"
   ]
  },
  {
   "cell_type": "code",
   "execution_count": 33,
   "id": "14ddd3c6",
   "metadata": {},
   "outputs": [
    {
     "data": {
      "text/plain": [
       "[{'ham': 0.99705744}, {'spam': 0.0029425356}]"
      ]
     },
     "execution_count": 33,
     "metadata": {},
     "output_type": "execute_result"
    }
   ],
   "source": [
    "predict(\"Hello world\", max_words=max_words, max_sequence=max_sequence, tokenizer=tokenizer)"
   ]
  },
  {
   "cell_type": "markdown",
   "id": "407b2132",
   "metadata": {},
   "source": [
    "## Exporting Tokenizer & Metadata"
   ]
  },
  {
   "cell_type": "code",
   "execution_count": 36,
   "id": "3a14bdfa",
   "metadata": {},
   "outputs": [
    {
     "data": {
      "text/plain": [
       "187"
      ]
     },
     "execution_count": 36,
     "metadata": {},
     "output_type": "execute_result"
    }
   ],
   "source": [
    "metadata = {\n",
    "    \"labels_legend_inverted\": labels_legend_inverted,\n",
    "    \"legend\": legend,\n",
    "    \"max_sequence\": max_sequence,\n",
    "    \"max_words\": max_words,\n",
    "}\n",
    "\n",
    "METADATA_EXPORT_PATH = EXPORT_DIR / 'spam-classifer-metadata.json'\n",
    "METADATA_EXPORT_PATH.write_text(json.dumps(metadata, indent=4))"
   ]
  },
  {
   "cell_type": "code",
   "execution_count": 37,
   "id": "c188c645",
   "metadata": {},
   "outputs": [
    {
     "data": {
      "text/plain": [
       "828992"
      ]
     },
     "execution_count": 37,
     "metadata": {},
     "output_type": "execute_result"
    }
   ],
   "source": [
    "tokenizer_as_json = tokenizer.to_json()\n",
    "\n",
    "TOKENIZER_EXPORT_PATH = EXPORT_DIR / 'spam-classifer-tokenizer.json'\n",
    "TOKENIZER_EXPORT_PATH.write_text(tokenizer_as_json)"
   ]
  },
  {
   "cell_type": "code",
   "execution_count": null,
   "id": "17d53034",
   "metadata": {},
   "outputs": [],
   "source": []
  }
 ],
 "metadata": {
  "kernelspec": {
   "display_name": "spam_classification",
   "language": "python",
   "name": "spam_classification"
  },
  "language_info": {
   "codemirror_mode": {
    "name": "ipython",
    "version": 3
   },
   "file_extension": ".py",
   "mimetype": "text/x-python",
   "name": "python",
   "nbconvert_exporter": "python",
   "pygments_lexer": "ipython3",
   "version": "3.9.9"
  }
 },
 "nbformat": 4,
 "nbformat_minor": 5
}
